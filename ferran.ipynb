{
 "cells": [
  {
   "cell_type": "markdown",
   "id": "e9c00c26",
   "metadata": {},
   "source": [
    "# ¿Sobre qué debería dibujar?\n",
    "\n",
    "## Innovación vs Explotación\n"
   ]
  },
  {
   "cell_type": "markdown",
   "id": "cd08cbd1",
   "metadata": {},
   "source": [
    "Siempre que me dispongo a dibujar, me gusta tratar una temática de superhéroes, pero a veces me apetece dibujar otras temáticas, aunque se me den peor.\n",
    "\n",
    "¿Qué debería hacer?"
   ]
  },
  {
   "cell_type": "markdown",
   "id": "990f5f07",
   "metadata": {},
   "source": [
    "Este problema se resuelve de la siguiente forma:"
   ]
  },
  {
   "cell_type": "markdown",
   "id": "6f382d75",
   "metadata": {},
   "source": [
    "$\\frac{s_i}{n_i} + c \\sqrt{\\frac{log N}{n_i}}$"
   ]
  },
  {
   "cell_type": "markdown",
   "id": "45475e61",
   "metadata": {},
   "source": [
    "He dibujado 30 veces, 20 he dibujado temática de héroes y he valorado mi satisfacción 3 veces con un 10, 9 veces con un 7, 6 veces con un 5 y 2 veces con un 1, suman 125 puntos.\n",
    "\n",
    "Entonces:\n",
    "- $s_i$ es la valoración total de la temática de héroes\n",
    "- $n_i$ es el número de veces que he dibujado esta temática\n",
    "- $N$ es el número de veces total que he dibujado\n",
    "- $c$ en este caso valdrá 1"
   ]
  },
  {
   "cell_type": "code",
   "execution_count": 32,
   "id": "46f33153",
   "metadata": {},
   "outputs": [
    {
     "name": "stdout",
     "output_type": "stream",
     "text": [
      "La elección por héroes tiene valor: 6.662383158098276\n"
     ]
    }
   ],
   "source": [
    "import math\n",
    "N = 30\n",
    "ni = 20\n",
    "si = 125\n",
    "c = 1\n",
    "heroes = (si/ni) + c * math.sqrt(math.log(N)/ni)\n",
    "print(\"La elección por héroes tiene valor: \" + str(heroes))"
   ]
  },
  {
   "cell_type": "markdown",
   "id": "4f05b2db",
   "metadata": {},
   "source": [
    "¿Qué valor tiene dibujar otra temática?"
   ]
  },
  {
   "cell_type": "code",
   "execution_count": 33,
   "id": "4ce3cec1",
   "metadata": {},
   "outputs": [
    {
     "name": "stdout",
     "output_type": "stream",
     "text": [
      "La elección por otra temática tiene valor: inf\n"
     ]
    }
   ],
   "source": [
    "import math\n",
    "N = 30\n",
    "nj = 0\n",
    "si = 0\n",
    "c = 1\n",
    "if nj == 0:\n",
    "    otra = math.inf\n",
    "else:\n",
    "    otra = (sj/nj) + c * math.sqrt(math.log(N)/nj)\n",
    "print(\"La elección por otra temática tiene valor: \" + str(otra))"
   ]
  },
  {
   "cell_type": "markdown",
   "id": "aa93533f",
   "metadata": {},
   "source": [
    "Pues prefiero probar a dibujar otra temática."
   ]
  },
  {
   "cell_type": "markdown",
   "id": "6ebf0931",
   "metadata": {},
   "source": [
    "Suponemos que dibujo otra temática y me gusta como me queda por lo que le doy un 7.\n",
    "\n",
    "Vuelvo a dibujar al día siguiente, ¿qué temática dibujo?"
   ]
  },
  {
   "cell_type": "code",
   "execution_count": 34,
   "id": "20ebc88d",
   "metadata": {},
   "outputs": [
    {
     "name": "stdout",
     "output_type": "stream",
     "text": [
      "La elección por héroes tiene valor: 6.664366215109602\n"
     ]
    }
   ],
   "source": [
    "import math\n",
    "N = 31\n",
    "ni = 20\n",
    "si = 125\n",
    "c = 1\n",
    "heroes = (si/ni) + c * math.sqrt(math.log(N)/ni)\n",
    "print(\"La elección por héroes tiene valor: \" + str(heroes))"
   ]
  },
  {
   "cell_type": "code",
   "execution_count": 35,
   "id": "8418a799",
   "metadata": {},
   "outputs": [
    {
     "name": "stdout",
     "output_type": "stream",
     "text": [
      "La elección por otra temática tiene valor: 8.853102049128744\n"
     ]
    }
   ],
   "source": [
    "import math\n",
    "N = 31\n",
    "nj = 1\n",
    "sj = 7\n",
    "c = 1\n",
    "if nj == 0:\n",
    "    otra = math.inf\n",
    "else:\n",
    "    otra = (sj/nj) + c * math.sqrt(math.log(N)/nj)\n",
    "print(\"La elección por otra temática tiene valor: \" + str(otra))"
   ]
  },
  {
   "cell_type": "markdown",
   "id": "cb588e8c",
   "metadata": {},
   "source": [
    "Dibujo de nuevo otra temática pero no estoy satisfecho, le doy valor 1. Por lo tanto, $n_j=2$ y $s_j=11$.\n",
    "\n",
    "Volvemos a dibujar al día siguiente, ¿qué dibujo?"
   ]
  },
  {
   "cell_type": "code",
   "execution_count": 36,
   "id": "a3729668",
   "metadata": {},
   "outputs": [
    {
     "name": "stdout",
     "output_type": "stream",
     "text": [
      "La elección por héroes tiene valor: 6.6662773055788485\n"
     ]
    }
   ],
   "source": [
    "import math\n",
    "N = 32\n",
    "ni = 20\n",
    "si = 125\n",
    "c = 1\n",
    "heroes = (si/ni) + c * math.sqrt(math.log(N)/ni)\n",
    "print(\"La elección por héroes tiene valor: \" + str(heroes))"
   ]
  },
  {
   "cell_type": "code",
   "execution_count": 37,
   "id": "37234916",
   "metadata": {},
   "outputs": [
    {
     "name": "stdout",
     "output_type": "stream",
     "text": [
      "La elección por otra temática tiene valor: 5.316384423867079\n"
     ]
    }
   ],
   "source": [
    "import math\n",
    "N = 32\n",
    "nj = 2\n",
    "sj = 8\n",
    "c = 1\n",
    "if nj == 0:\n",
    "    otra = math.inf\n",
    "else:\n",
    "    otra = (sj/nj) + c * math.sqrt(math.log(N)/nj)\n",
    "print(\"La elección por otra temática tiene valor: \" + str(otra))"
   ]
  },
  {
   "cell_type": "markdown",
   "id": "c799474b",
   "metadata": {},
   "source": [
    "Por lo tanto ahora dibujaría la temática de héroes."
   ]
  }
 ],
 "metadata": {
  "kernelspec": {
   "display_name": "Python 3 (ipykernel)",
   "language": "python",
   "name": "python3"
  },
  "language_info": {
   "codemirror_mode": {
    "name": "ipython",
    "version": 3
   },
   "file_extension": ".py",
   "mimetype": "text/x-python",
   "name": "python",
   "nbconvert_exporter": "python",
   "pygments_lexer": "ipython3",
   "version": "3.8.12"
  }
 },
 "nbformat": 4,
 "nbformat_minor": 5
}
